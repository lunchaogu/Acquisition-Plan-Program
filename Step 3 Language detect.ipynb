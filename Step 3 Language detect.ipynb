{
 "cells": [
  {
   "cell_type": "code",
   "execution_count": null,
   "metadata": {},
   "outputs": [],
   "source": [
    "import modin.pandas as pd\n",
    "from lingua import Language, LanguageDetectorBuilder\n",
    "import hanzidentifier\n",
    "import datetime\n",
    "import project_function as pf"
   ]
  },
  {
   "cell_type": "markdown",
   "metadata": {},
   "source": [
    "Generate language pivot table"
   ]
  },
  {
   "cell_type": "code",
   "execution_count": null,
   "metadata": {},
   "outputs": [],
   "source": [
    "POI_list = pd.read_csv('/POI_list')\n",
    "lang_result = pf.lang_process(POI_list)\n",
    "lang_result['lang'] = lang_result['text'].apply(lambda x: pf.langdetect(x))\n",
    "# Create pivot table\n",
    "lang_result_pivot = lang_result.groupby(['placeId','lang']).size().reset_index(name='lang_count')\n",
    "lang_result_pivot = pd.pivot_table(lang_result_pivot, index = 'placeId', values = 'lang_count', columns = 'lang', aggfunc='sum')\n",
    "lang_result_pivot.to_csv('/lang_result', index = False)"
   ]
  },
  {
   "cell_type": "markdown",
   "metadata": {},
   "source": [
    "\n",
    "Generate review period"
   ]
  },
  {
   "cell_type": "code",
   "execution_count": null,
   "metadata": {},
   "outputs": [],
   "source": [
    "review_date_result = pf.review_date_process(POI_list)\n",
    "review_date_result.to_csv('/review_date_result', index = False)"
   ]
  }
 ],
 "metadata": {
  "language_info": {
   "name": "python"
  }
 },
 "nbformat": 4,
 "nbformat_minor": 2
}
