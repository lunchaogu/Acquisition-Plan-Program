{
 "cells": [
  {
   "cell_type": "code",
   "execution_count": 1,
   "metadata": {},
   "outputs": [],
   "source": [
    "import time\n",
    "import requests\n",
    "import pandas as pd"
   ]
  },
  {
   "cell_type": "code",
   "execution_count": 4,
   "metadata": {},
   "outputs": [],
   "source": [
    "#Place API key\n",
    "API_KEY= 'Place API'\n",
    "url = 'https://maps.googleapis.com/maps/api/place/textsearch/json'"
   ]
  },
  {
   "cell_type": "code",
   "execution_count": 5,
   "metadata": {},
   "outputs": [],
   "source": [
    "#list of areas of attractions\n",
    "areas = pd.read_csv('area_Italy_Spain_Netherland.csv').fillna('').values.tolist()\n",
    "categories = pd.read_csv('category.csv')['Category'].values.tolist()"
   ]
  },
  {
   "cell_type": "code",
   "execution_count": 6,
   "metadata": {},
   "outputs": [],
   "source": [
    "def generate_query(category, area):\n",
    "    unique_items = []\n",
    "    for item in area:\n",
    "        if item != '' and item not in unique_items:\n",
    "            unique_items.append(item)\n",
    "    unique_items.reverse()\n",
    "    result = ', '.join(unique_items)\n",
    "    return(f'{category}, {result}')"
   ]
  },
  {
   "cell_type": "code",
   "execution_count": 6,
   "metadata": {},
   "outputs": [],
   "source": [
    "#Define function to send request and process data downloaded\n",
    "def get_POI(API_KEY, category, area, pagetoken):\n",
    "    query = generate_query(category, area)\n",
    "    print(query)\n",
    "    params = {\n",
    "        'query': query,\n",
    "        'key': API_KEY,\n",
    "        'pagetoken' : pagetoken,\n",
    "        }\n",
    "    result = requests.get(url, params=params)\n",
    "    #Convert data into json type first and dataframe then\n",
    "    result_js = result.json()\n",
    "    result_df = pd.json_normalize(result_js['results'])\n",
    "    #Check if there is next page and send the token to params\n",
    "    if 'next_page_token' in result_js:\n",
    "        page_token = result_js['next_page_token']\n",
    "    else:\n",
    "        page_token = None\n",
    "    return(result_df, page_token)"
   ]
  },
  {
   "cell_type": "code",
   "execution_count": 10,
   "metadata": {},
   "outputs": [],
   "source": [
    "request_times = 0\n",
    "page_token = None\n",
    "POI_list = pd.DataFrame()"
   ]
  },
  {
   "cell_type": "code",
   "execution_count": null,
   "metadata": {},
   "outputs": [],
   "source": [
    "#Main\n",
    "for area in areas:\n",
    "    for category in categories:\n",
    "        print(f'request{request_times}:')\n",
    "        result_df, page_token = get_POI(API_KEY, category, area, page_token)\n",
    "        POI_list = pd.concat([POI_list,result_df])\n",
    "        # Place API - 6000 qpm\n",
    "        time.sleep(0.1)\n",
    "        request_times += 1\n",
    "        while page_token is not None:\n",
    "                print(f'request{request_times}:')\n",
    "                result_df, page_token = get_POI(API_KEY, category, area, page_token)\n",
    "                result_df = pd.concat([POI_list,result_df])\n",
    "                time.sleep(0.1)\n",
    "                request_times += 1"
   ]
  },
  {
   "cell_type": "code",
   "execution_count": null,
   "metadata": {},
   "outputs": [],
   "source": [
    "POI_list.drop_duplicates(subset=['place_id']).to_csv('POI_list.csv')"
   ]
  }
 ],
 "metadata": {
  "kernelspec": {
   "display_name": "Python 3",
   "language": "python",
   "name": "python3"
  },
  "language_info": {
   "codemirror_mode": {
    "name": "ipython",
    "version": 3
   },
   "file_extension": ".py",
   "mimetype": "text/x-python",
   "name": "python",
   "nbconvert_exporter": "python",
   "pygments_lexer": "ipython3",
   "version": "3.12.0"
  }
 },
 "nbformat": 4,
 "nbformat_minor": 2
}
